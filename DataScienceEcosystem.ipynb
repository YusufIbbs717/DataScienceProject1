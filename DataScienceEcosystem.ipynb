{
 "cells": [
  {
   "cell_type": "markdown",
   "id": "587f6aeb-53cc-4ebb-a1e9-4d5073811e76",
   "metadata": {},
   "source": [
    "# Data Science Tools and Ecosystem"
   ]
  },
  {
   "cell_type": "markdown",
   "id": "42bcdf58-094f-4272-b55e-a4fed0b9e2f4",
   "metadata": {},
   "source": [
    "In this notebook, Data Science Tools and Ecosystem are summarized.\r\n"
   ]
  },
  {
   "cell_type": "markdown",
   "id": "3b3b2435-5936-4d61-b1bb-fad80b289ba1",
   "metadata": {},
   "source": [
    "**Objectives:**\n",
    "- Popular languages that Data Scientists use\n",
    "- Commonly used libraries used by Data Scientists\n",
    "- Data Science Tools\n",
    "- Arithmetic expressions in Python"
   ]
  },
  {
   "cell_type": "markdown",
   "id": "28a0ca21-4cfa-451f-afe5-935701d1852c",
   "metadata": {},
   "source": [
    "Some of the popular languages that Data Scientists use are:\r",
    "1. Python\n",
    "2. SQL\n",
    "3. R\n",
    "4. C\n",
    "5. C++\n"
   ]
  },
  {
   "cell_type": "markdown",
   "id": "2cfceb54-221a-48c3-bd39-06331406897a",
   "metadata": {},
   "source": [
    "Some of the commonly used libraries used by Data Scientists include:\n",
    "1. Matplotlib\n",
    "2. Pytorch\n",
    "3. Pandas\n",
    "4. Numpy\n",
    "5. TensorFlow\n",
    "6. Scikitlearn"
   ]
  },
  {
   "cell_type": "markdown",
   "id": "7a88de07-af7b-44fd-8955-59d64764c9a7",
   "metadata": {},
   "source": [
    "| Data Science Tools |\n",
    "|-------------|\n",
    "| JupyterNotebooks |\n",
    "| RStudio |\n",
    "| Visual Studio Code |"
   ]
  },
  {
   "cell_type": "markdown",
   "id": "7c0e4d65-b7c1-4eb2-9b2c-57aea31497d6",
   "metadata": {},
   "source": [
    "### Below are a few examples of evaluating arithmetic expressions in Python.\n"
   ]
  },
  {
   "cell_type": "code",
   "execution_count": 23,
   "id": "2d3de60d-7611-4495-b703-b58c50bd962e",
   "metadata": {},
   "outputs": [
    {
     "data": {
      "text/plain": [
       "17"
      ]
     },
     "execution_count": 23,
     "metadata": {},
     "output_type": "execute_result"
    }
   ],
   "source": [
    "(3*4)+5"
   ]
  },
  {
   "cell_type": "code",
   "execution_count": 33,
   "id": "a6081d76-6ad8-4f5a-b032-eb107d4d3610",
   "metadata": {},
   "outputs": [
    {
     "name": "stdout",
     "output_type": "stream",
     "text": [
      "3.33\n"
     ]
    }
   ],
   "source": [
    "x = 200\n",
    "hours = x / 60\n",
    "# This will convert 200 minutes to hours by diving by 60\n",
    "rounded_hours = round(hours, 2)\n",
    "print(rounded_hours)"
   ]
  },
  {
   "cell_type": "code",
   "execution_count": null,
   "id": "0860036d-fdb0-484b-9083-3db27d05b5b6",
   "metadata": {},
   "outputs": [],
   "source": []
  }
 ],
 "metadata": {
  "kernelspec": {
   "display_name": "Python 3 (ipykernel)",
   "language": "python",
   "name": "python3"
  },
  "language_info": {
   "codemirror_mode": {
    "name": "ipython",
    "version": 3
   },
   "file_extension": ".py",
   "mimetype": "text/x-python",
   "name": "python",
   "nbconvert_exporter": "python",
   "pygments_lexer": "ipython3",
   "version": "3.12.4"
  }
 },
 "nbformat": 4,
 "nbformat_minor": 5
}
